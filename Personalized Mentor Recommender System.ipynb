{
 "cells": [
  {
   "cell_type": "markdown",
   "id": "4587e5c6-c45f-40ac-8e1c-d72ba9e1514b",
   "metadata": {},
   "source": [
    "## Personalized Mentor Recommendation System Project:\n",
    "We will have a work flow of the model , implement it on step-by-step measures."
   ]
  },
  {
   "cell_type": "markdown",
   "id": "5b0cd504-3188-4f51-bedb-44b2657741c4",
   "metadata": {},
   "source": [
    "## Importing the Important Libraries"
   ]
  },
  {
   "cell_type": "code",
   "execution_count": null,
   "id": "a811a7cf-b9bf-47c3-84f6-7badc23bc7e1",
   "metadata": {},
   "outputs": [],
   "source": [
    "import pandas as pd\n",
    "from sklearn.preprocessing import MultiLabelBinarizer\n",
    "from sklearn.metrics.pairwise import cosine_similarity\n"
   ]
  },
  {
   "cell_type": "markdown",
   "id": "0111941b-f604-491c-9641-b9cfcd1d1773",
   "metadata": {},
   "source": [
    "## Data Collection (Mock Data):\n",
    "We created a sample aspirant profile and a mock dataset of mentors.\n",
    "Each mentor and aspirant has attributes like:\n",
    "1. preferred_subjects\n",
    "2. target_colleges\n",
    "3. prep_level\n",
    "4. learning_style"
   ]
  },
  {
   "cell_type": "code",
   "execution_count": 6,
   "id": "35988044-23ca-4633-aa9c-dcc84c19ae30",
   "metadata": {},
   "outputs": [],
   "source": [
    "# Aspirant Profile (Input)\n",
    "aspirant = {\n",
    "    'preferred_subjects': ['Constitutional Law', 'Legal Reasoning'],\n",
    "    'target_colleges': ['NLSIU', 'NLU Delhi'],\n",
    "    'prep_level': 'Intermediate',\n",
    "    'learning_style': 'Visual'\n",
    "}"
   ]
  },
  {
   "cell_type": "code",
   "execution_count": 8,
   "id": "27e8a294-9108-4fb2-b07d-b000af9e39d3",
   "metadata": {},
   "outputs": [],
   "source": [
    "# Mock Mentors Dataset\n",
    "data = [\n",
    "    {'mentor': 'Mentor A', 'preferred_subjects': ['Constitutional Law'], 'target_colleges': ['NLSIU'], 'prep_level': 'Advanced', 'learning_style': 'Visual'},\n",
    "    {'mentor': 'Mentor B', 'preferred_subjects': ['Legal Reasoning', 'English'], 'target_colleges': ['NLU Delhi'], 'prep_level': 'Intermediate', 'learning_style': 'Auditory'},\n",
    "    {'mentor': 'Mentor C', 'preferred_subjects': ['Logical Reasoning'], 'target_colleges': ['NLU Jodhpur'], 'prep_level': 'Beginner', 'learning_style': 'Kinesthetic'},\n",
    "    {'mentor': 'Mentor D', 'preferred_subjects': ['Constitutional Law', 'Legal Reasoning'], 'target_colleges': ['NLSIU', 'NLU Delhi'], 'prep_level': 'Intermediate', 'learning_style': 'Visual'},\n",
    "]\n",
    "\n"
   ]
  },
  {
   "cell_type": "code",
   "execution_count": 10,
   "id": "84292f3b-afbf-4ca0-ae58-9b22cea835fe",
   "metadata": {},
   "outputs": [],
   "source": [
    "mentors_df = pd.DataFrame(data)"
   ]
  },
  {
   "cell_type": "markdown",
   "id": "d0118cf4-374b-499b-bf93-cb84f332d58b",
   "metadata": {},
   "source": [
    "## Feature Processing\n",
    "Combine all the unique Categorical fields"
   ]
  },
  {
   "cell_type": "code",
   "execution_count": 12,
   "id": "59df83fc-5c4a-469b-a94d-5b94b1517038",
   "metadata": {},
   "outputs": [],
   "source": [
    "all_data = mentors_df.copy()\n",
    "all_data.loc[-1] = aspirant\n",
    "all_data.index = all_data.index + 1\n",
    "all_data = all_data.sort_index()"
   ]
  },
  {
   "cell_type": "code",
   "execution_count": null,
   "id": "2c290ed7-07cc-4e6f-a3fc-82a79698b573",
   "metadata": {},
   "outputs": [],
   "source": [
    "Encode Multi-Label Fields"
   ]
  },
  {
   "cell_type": "code",
   "execution_count": 14,
   "id": "7a6504ff-42a8-4662-ae8a-73ea4f5f433b",
   "metadata": {},
   "outputs": [],
   "source": [
    "mlb = MultiLabelBinarizer()\n",
    "subjects_encoded = mlb.fit_transform(all_data['preferred_subjects'])\n",
    "colleges_encoded = mlb.fit_transform(all_data['target_colleges'])\n"
   ]
  },
  {
   "cell_type": "code",
   "execution_count": null,
   "id": "2192f856-0c64-4e50-8907-a66dd5950e40",
   "metadata": {},
   "outputs": [],
   "source": [
    "Encode Single-Label Categorical"
   ]
  },
  {
   "cell_type": "code",
   "execution_count": 16,
   "id": "a037f128-ecec-4db5-beb8-122a71debd48",
   "metadata": {},
   "outputs": [],
   "source": [
    "prep_level_map = {'Beginner': 0, 'Intermediate': 1, 'Advanced': 2}\n",
    "learning_style_map = {'Visual': 0, 'Auditory': 1, 'Kinesthetic': 2}\n",
    "prep_encoded = all_data['prep_level'].map(prep_level_map)\n",
    "learn_encoded = all_data['learning_style'].map(learning_style_map)"
   ]
  },
  {
   "cell_type": "code",
   "execution_count": null,
   "id": "4fc90202-61d3-47f2-9ce5-5238c13a506d",
   "metadata": {},
   "outputs": [],
   "source": [
    "Final Feature Matrix"
   ]
  },
  {
   "cell_type": "code",
   "execution_count": 18,
   "id": "7cff6d75-fb44-4210-9f43-a59f4ef3cc08",
   "metadata": {},
   "outputs": [],
   "source": [
    "import numpy as np\n",
    "features = np.hstack((subjects_encoded, colleges_encoded, \n",
    "                      prep_encoded.values.reshape(-1, 1), \n",
    "                      learn_encoded.values.reshape(-1, 1)))"
   ]
  },
  {
   "cell_type": "markdown",
   "id": "d396aac6-7031-4226-af0d-e7c2abbcddb7",
   "metadata": {},
   "source": [
    "## Cosine Similarity"
   ]
  },
  {
   "cell_type": "code",
   "execution_count": 20,
   "id": "7a7e3c3d-97db-45ef-a662-32fa060327b9",
   "metadata": {},
   "outputs": [],
   "source": [
    "aspirant_vector = features[0].reshape(1, -1)\n",
    "mentor_vectors = features[1:]"
   ]
  },
  {
   "cell_type": "code",
   "execution_count": 22,
   "id": "961c0acb-f2bd-4aca-bafe-fbfb65601d4f",
   "metadata": {},
   "outputs": [],
   "source": [
    "similarities = cosine_similarity(aspirant_vector, mentor_vectors)[0]\n",
    "mentors_df['similarity'] = similarities\n"
   ]
  },
  {
   "cell_type": "markdown",
   "id": "0a70d959-169f-4d1a-a241-4090664907f8",
   "metadata": {},
   "source": [
    "## Recommend Top 3 Mentors"
   ]
  },
  {
   "cell_type": "code",
   "execution_count": 24,
   "id": "644b8b91-a171-46f5-9e35-9c50e323fba7",
   "metadata": {},
   "outputs": [
    {
     "name": "stdout",
     "output_type": "stream",
     "text": [
      "Top 3 Mentor Recommendations:\n",
      "     mentor  similarity\n",
      "3  Mentor D    1.000000\n",
      "0  Mentor A    0.730297\n",
      "1  Mentor B    0.600000\n"
     ]
    }
   ],
   "source": [
    "top_mentors = mentors_df.sort_values(by='similarity', ascending=False).head(3)\n",
    "print(\"Top 3 Mentor Recommendations:\")\n",
    "print(top_mentors[['mentor', 'similarity']])"
   ]
  },
  {
   "cell_type": "markdown",
   "id": "f6115d62-23c5-4564-9318-604a175b6554",
   "metadata": {},
   "source": [
    "## Graphical Representation "
   ]
  },
  {
   "cell_type": "code",
   "execution_count": 26,
   "id": "ca1ee604-447b-4ec7-8cd7-cd2f2a9d7d78",
   "metadata": {},
   "outputs": [
    {
     "data": {
      "image/png": "[encoded data removed]",
      "text/plain": [
       "<Figure size 1000x600 with 1 Axes>"
      ]
     },
     "metadata": {},
     "output_type": "display_data"
    }
   ],
   "source": [
    "import matplotlib.pyplot as plt\n",
    "import seaborn as sns\n",
    "\n",
    "# Set the style of the plot\n",
    "sns.set(style=\"whitegrid\")\n",
    "\n",
    "# Create a bar plot of top 3 mentors by similarity score\n",
    "plt.figure(figsize=(10, 6))\n",
    "sns.barplot(x='similarity', y='mentor', data=top_mentors, palette='viridis')\n",
    "\n",
    "# Set plot labels and title\n",
    "plt.title('Top 3 Mentor Recommendations Based on Similarity', fontsize=16)\n",
    "plt.xlabel('Similarity Score', fontsize=14)\n",
    "plt.ylabel('Mentor', fontsize=14)\n",
    "\n",
    "# Display the plot\n",
    "plt.show()"
   ]
  },
  {
   "cell_type": "markdown",
   "id": "5c528cf0-3575-44b0-b951-068114192dfb",
   "metadata": {},
   "source": [
    "## Conclusion :\n",
    "This project successfully demonstrates a simple yet effective AI/ML-based recommendation system that matches law aspirants with suitable mentors based on profile similarity. By encoding user preferences and applying cosine similarity, the system provides personalized top-3 mentor recommendations.\n",
    "\n",
    "This approach can enhance mentorship engagement for CLAT and other law entrance exam aspirants and can be further improved over time with real user feedback and behavioral data."
   ]
  }
 ],
 "metadata": {
  "kernelspec": {
   "display_name": "Python 3 (ipykernel)",
   "language": "python",
   "name": "python3"
  },
  "language_info": {
   "codemirror_mode": {
    "name": "ipython",
    "version": 3
   },
   "file_extension": ".py",
   "mimetype": "text/x-python",
   "name": "python",
   "nbconvert_exporter": "python",
   "pygments_lexer": "ipython3",
   "version": "3.11.7"
  }
 },
 "nbformat": 4,
 "nbformat_minor": 5
}
